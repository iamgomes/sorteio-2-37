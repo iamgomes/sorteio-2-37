{
 "cells": [
  {
   "cell_type": "code",
   "execution_count": 433,
   "metadata": {},
   "outputs": [],
   "source": [
    "import pandas as pd\n",
    "import random"
   ]
  },
  {
   "cell_type": "code",
   "execution_count": 434,
   "metadata": {},
   "outputs": [],
   "source": [
    "def le_arquivo_sorteio(endereço_arquivo, percentual_lista, qtde_rodadas):   \n",
    "    \n",
    "    rodada = 1\n",
    "    lista = []\n",
    "    lista_sorteada = []\n",
    "    \n",
    "    print('Iniciando rodadas')\n",
    "    \n",
    "    while rodada <= qtde_rodadas:\n",
    "          \n",
    "        print('\\nRODADA: {}'.format(rodada))        \n",
    "        \n",
    "        print('Abrindo e lendo arquivo txt...')\n",
    "        with open(endereço_arquivo, 'r', encoding='utf-8') as file:\n",
    "            coluna = [line.strip() for line in file]\n",
    "\n",
    "        print('Verificando número de registros...')\n",
    "        # tamanho da coluna - número de linhas\n",
    "        tam = len(coluna)\n",
    "\n",
    "        print('Calculando percentual de linhas e realizando sorteio...')\n",
    "        # percentual para o sorteio\n",
    "        perc_sorteio = tam * percentual_lista / 100\n",
    "\n",
    "        # realiza sorteio conforme o percentual de linhas da coluna no arquivo\n",
    "        lista_sorteio = random.choices(coluna, k=int(np.ceil(perc_sorteio)))\n",
    "\n",
    "        lista_sorteada.append(lista_sorteio)\n",
    "        \n",
    "        rodada += 1\n",
    "\n",
    "    print('\\nIniciando análise...')\n",
    "    print('Calculando 13% dos valores linha a linha...')\n",
    "    contador = 1\n",
    "    for item in lista_sorteada:\n",
    "        for i in item:\n",
    "            dicionario = {'MÉDIA':int(i) * 0.13, 'ANÁLISE':'Ánalise {}'.format(contador)}\n",
    "            lista.append(dicionario)\n",
    "            \n",
    "        contador += 1\n",
    "    \n",
    "    print('Exportando DataFrame para arquivo CSV...')\n",
    "    df_analise = pd.DataFrame(lista)\n",
    "    df_analise['MÉDIA'] = df_analise['MÉDIA'].astype('float64')\n",
    "    df_analise['MÉDIA'] = df_analise['MÉDIA'].apply(lambda x: str(x).replace('.',','))\n",
    "    \n",
    "    print('Arquivo exportado com sucesso!\\n')\n",
    "    df_analise.to_csv('Análise percentual conjunto de dados.csv', sep=';' , encoding='latin1') "
   ]
  },
  {
   "cell_type": "code",
   "execution_count": 435,
   "metadata": {},
   "outputs": [],
   "source": [
    "# Endereço do arquivo txt a ser utilizado\n",
    "arquivo = 'arquivo.txt'\n",
    "\n",
    "# percentual desejado da lista\n",
    "perc = 2.37 #%\n",
    "\n",
    "qtde_rodadas = 3"
   ]
  },
  {
   "cell_type": "code",
   "execution_count": 436,
   "metadata": {},
   "outputs": [
    {
     "name": "stdout",
     "output_type": "stream",
     "text": [
      "Iniciando rodadas\n",
      "\n",
      "RODADA: 1\n",
      "Abrindo e lendo arquivo txt...\n",
      "Verificando número de registros...\n",
      "Calculando percentual de linhas e realizando sorteio...\n",
      "\n",
      "RODADA: 2\n",
      "Abrindo e lendo arquivo txt...\n",
      "Verificando número de registros...\n",
      "Calculando percentual de linhas e realizando sorteio...\n",
      "\n",
      "RODADA: 3\n",
      "Abrindo e lendo arquivo txt...\n",
      "Verificando número de registros...\n",
      "Calculando percentual de linhas e realizando sorteio...\n",
      "\n",
      "Iniciando análise...\n",
      "Calculando 13% dos valores linha a linha...\n",
      "Exportando DataFrame para arquivo CSV...\n",
      "Arquivo exportado com sucesso!\n",
      "\n"
     ]
    }
   ],
   "source": [
    "# para fazer as analises e baixar o arquivo csv, basta inserir o número da quantidade de análises\n",
    "le_arquivo_sorteio(arquivo, perc, qtde_rodadas)"
   ]
  },
  {
   "cell_type": "code",
   "execution_count": null,
   "metadata": {},
   "outputs": [],
   "source": []
  }
 ],
 "metadata": {
  "kernelspec": {
   "display_name": "Python 3",
   "language": "python",
   "name": "python3"
  },
  "language_info": {
   "codemirror_mode": {
    "name": "ipython",
    "version": 3
   },
   "file_extension": ".py",
   "mimetype": "text/x-python",
   "name": "python",
   "nbconvert_exporter": "python",
   "pygments_lexer": "ipython3",
   "version": "3.8.5"
  }
 },
 "nbformat": 4,
 "nbformat_minor": 4
}
